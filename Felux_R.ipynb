{
  "nbformat": 4,
  "nbformat_minor": 0,
  "metadata": {
    "colab": {
      "provenance": [],
      "authorship_tag": "ABX9TyPpA77Efmv0ZaEuWzyazPA6",
      "include_colab_link": true
    },
    "kernelspec": {
      "name": "ir",
      "display_name": "R"
    },
    "language_info": {
      "name": "R"
    }
  },
  "cells": [
    {
      "cell_type": "markdown",
      "metadata": {
        "id": "view-in-github",
        "colab_type": "text"
      },
      "source": [
        "<a href=\"https://colab.research.google.com/github/krishnanraman/felux/blob/main/Felux_R.ipynb\" target=\"_parent\"><img src=\"https://colab.research.google.com/assets/colab-badge.svg\" alt=\"Open In Colab\"/></a>"
      ]
    },
    {
      "cell_type": "code",
      "execution_count": 2,
      "metadata": {
        "id": "nhtF9PVnYiwj"
      },
      "outputs": [],
      "source": [
        "library(data.table)"
      ]
    },
    {
      "cell_type": "code",
      "source": [
        "rfq = fread(\"RFQ_Products.csv\", header=T)\n",
        "head(rfq, 10)"
      ],
      "metadata": {
        "colab": {
          "base_uri": "https://localhost:8080/",
          "height": 412
        },
        "id": "wg1bwfDpYs9a",
        "outputId": "0fdc36df-b808-47a2-993e-fd4611098c52"
      },
      "execution_count": 39,
      "outputs": [
        {
          "output_type": "display_data",
          "data": {
            "text/html": [
              "<table class=\"dataframe\">\n",
              "<caption>A data.table: 10 × 4</caption>\n",
              "<thead>\n",
              "\t<tr><th scope=col>Product_Id</th><th scope=col>Product</th><th scope=col>Weight_Requested</th><th scope=col>Destination</th></tr>\n",
              "\t<tr><th scope=col>&lt;int&gt;</th><th scope=col>&lt;chr&gt;</th><th scope=col>&lt;int&gt;</th><th scope=col>&lt;chr&gt;</th></tr>\n",
              "</thead>\n",
              "<tbody>\n",
              "\t<tr><td> 1</td><td><span style=white-space:pre-wrap>HR P&amp;O .025 x 48                </span></td><td> 750000</td><td>Cleveland, OH</td></tr>\n",
              "\t<tr><td> 2</td><td>CR DS 0.0158\"\" x 48\"\"           </td><td>1650000</td><td>Cleveland, OH</td></tr>\n",
              "\t<tr><td> 3</td><td>HR CSB 0.096\"\" x 60\"\"           </td><td> 850000</td><td>Cleveland, OH</td></tr>\n",
              "\t<tr><td> 4</td><td>GA 050 CHT D G40 0.044\"\" x 48\"\" </td><td> 100000</td><td>Cleveland, OH</td></tr>\n",
              "\t<tr><td> 5</td><td>CR HSLA50 0.0615\"\" x 44.57\"\"    </td><td> 250000</td><td>Dallas, TX   </td></tr>\n",
              "\t<tr><td> 6</td><td>CR HSLA50 0.0615\"\" x 60\"\"       </td><td>1350000</td><td>Dallas, TX   </td></tr>\n",
              "\t<tr><td> 7</td><td>GA 080 NCT O G40 0.0187\"\" x 48\"\"</td><td> 495000</td><td>Dallas, TX   </td></tr>\n",
              "\t<tr><td> 8</td><td><span style=white-space:pre-wrap>HR P&amp;O .025 x 48                </span></td><td> 150000</td><td><span style=white-space:pre-wrap>Dallas, TX   </span></td></tr>\n",
              "\t<tr><td> 9</td><td>CR DS 0.0158\"\" x 48\"\"           </td><td> 100000</td><td>Savannah, GA </td></tr>\n",
              "\t<tr><td>10</td><td>HR CSB 0.096\"\" x 60\"\"           </td><td>  25000</td><td>Savannah, GA </td></tr>\n",
              "</tbody>\n",
              "</table>\n"
            ],
            "text/markdown": "\nA data.table: 10 × 4\n\n| Product_Id &lt;int&gt; | Product &lt;chr&gt; | Weight_Requested &lt;int&gt; | Destination &lt;chr&gt; |\n|---|---|---|---|\n|  1 | HR P&amp;O .025 x 48                 |  750000 | Cleveland, OH |\n|  2 | CR DS 0.0158\"\" x 48\"\"            | 1650000 | Cleveland, OH |\n|  3 | HR CSB 0.096\"\" x 60\"\"            |  850000 | Cleveland, OH |\n|  4 | GA 050 CHT D G40 0.044\"\" x 48\"\"  |  100000 | Cleveland, OH |\n|  5 | CR HSLA50 0.0615\"\" x 44.57\"\"     |  250000 | Dallas, TX    |\n|  6 | CR HSLA50 0.0615\"\" x 60\"\"        | 1350000 | Dallas, TX    |\n|  7 | GA 080 NCT O G40 0.0187\"\" x 48\"\" |  495000 | Dallas, TX    |\n|  8 | HR P&amp;O .025 x 48                 |  150000 | Dallas, TX    |\n|  9 | CR DS 0.0158\"\" x 48\"\"            |  100000 | Savannah, GA  |\n| 10 | HR CSB 0.096\"\" x 60\"\"            |   25000 | Savannah, GA  |\n\n",
            "text/latex": "A data.table: 10 × 4\n\\begin{tabular}{llll}\n Product\\_Id & Product & Weight\\_Requested & Destination\\\\\n <int> & <chr> & <int> & <chr>\\\\\n\\hline\n\t  1 & HR P\\&O .025 x 48                 &  750000 & Cleveland, OH\\\\\n\t  2 & CR DS 0.0158\"\" x 48\"\"            & 1650000 & Cleveland, OH\\\\\n\t  3 & HR CSB 0.096\"\" x 60\"\"            &  850000 & Cleveland, OH\\\\\n\t  4 & GA 050 CHT D G40 0.044\"\" x 48\"\"  &  100000 & Cleveland, OH\\\\\n\t  5 & CR HSLA50 0.0615\"\" x 44.57\"\"     &  250000 & Dallas, TX   \\\\\n\t  6 & CR HSLA50 0.0615\"\" x 60\"\"        & 1350000 & Dallas, TX   \\\\\n\t  7 & GA 080 NCT O G40 0.0187\"\" x 48\"\" &  495000 & Dallas, TX   \\\\\n\t  8 & HR P\\&O .025 x 48                 &  150000 & Dallas, TX   \\\\\n\t  9 & CR DS 0.0158\"\" x 48\"\"            &  100000 & Savannah, GA \\\\\n\t 10 & HR CSB 0.096\"\" x 60\"\"            &   25000 & Savannah, GA \\\\\n\\end{tabular}\n",
            "text/plain": [
              "   Product_Id Product                          Weight_Requested Destination  \n",
              "1   1         HR P&O .025 x 48                  750000          Cleveland, OH\n",
              "2   2         CR DS 0.0158\"\" x 48\"\"            1650000          Cleveland, OH\n",
              "3   3         HR CSB 0.096\"\" x 60\"\"             850000          Cleveland, OH\n",
              "4   4         GA 050 CHT D G40 0.044\"\" x 48\"\"   100000          Cleveland, OH\n",
              "5   5         CR HSLA50 0.0615\"\" x 44.57\"\"      250000          Dallas, TX   \n",
              "6   6         CR HSLA50 0.0615\"\" x 60\"\"        1350000          Dallas, TX   \n",
              "7   7         GA 080 NCT O G40 0.0187\"\" x 48\"\"  495000          Dallas, TX   \n",
              "8   8         HR P&O .025 x 48                  150000          Dallas, TX   \n",
              "9   9         CR DS 0.0158\"\" x 48\"\"             100000          Savannah, GA \n",
              "10 10         HR CSB 0.096\"\" x 60\"\"              25000          Savannah, GA "
            ]
          },
          "metadata": {}
        }
      ]
    },
    {
      "cell_type": "code",
      "source": [
        "suppliers = fread(\"Suppliers.csv\", header=T)\n",
        "head(suppliers,10)"
      ],
      "metadata": {
        "colab": {
          "base_uri": "https://localhost:8080/",
          "height": 412
        },
        "id": "TM5-KDRCdLIo",
        "outputId": "c0324c41-b111-4e8d-83d4-54ebc6b5b983"
      },
      "execution_count": 5,
      "outputs": [
        {
          "output_type": "display_data",
          "data": {
            "text/html": [
              "<table class=\"dataframe\">\n",
              "<caption>A data.table: 10 × 3</caption>\n",
              "<thead>\n",
              "\t<tr><th scope=col>Id</th><th scope=col>Name</th><th scope=col>QualityFactor</th></tr>\n",
              "\t<tr><th scope=col>&lt;int&gt;</th><th scope=col>&lt;chr&gt;</th><th scope=col>&lt;dbl&gt;</th></tr>\n",
              "</thead>\n",
              "<tbody>\n",
              "\t<tr><td> 1</td><td>Supplier 1 </td><td>0.20746829</td></tr>\n",
              "\t<tr><td> 2</td><td>Supplier 2 </td><td>0.23560824</td></tr>\n",
              "\t<tr><td> 3</td><td>Supplier 3 </td><td>0.23810295</td></tr>\n",
              "\t<tr><td> 4</td><td>Supplier 4 </td><td>0.09197776</td></tr>\n",
              "\t<tr><td> 5</td><td>Supplier 5 </td><td>0.36013958</td></tr>\n",
              "\t<tr><td> 6</td><td>Supplier 6 </td><td>0.37966591</td></tr>\n",
              "\t<tr><td> 7</td><td>Supplier 7 </td><td>0.42157890</td></tr>\n",
              "\t<tr><td> 8</td><td>Supplier 8 </td><td>0.21566106</td></tr>\n",
              "\t<tr><td> 9</td><td>Supplier 9 </td><td>0.43478521</td></tr>\n",
              "\t<tr><td>10</td><td>Supplier 10</td><td>0.38622453</td></tr>\n",
              "</tbody>\n",
              "</table>\n"
            ],
            "text/markdown": "\nA data.table: 10 × 3\n\n| Id &lt;int&gt; | Name &lt;chr&gt; | QualityFactor &lt;dbl&gt; |\n|---|---|---|\n|  1 | Supplier 1  | 0.20746829 |\n|  2 | Supplier 2  | 0.23560824 |\n|  3 | Supplier 3  | 0.23810295 |\n|  4 | Supplier 4  | 0.09197776 |\n|  5 | Supplier 5  | 0.36013958 |\n|  6 | Supplier 6  | 0.37966591 |\n|  7 | Supplier 7  | 0.42157890 |\n|  8 | Supplier 8  | 0.21566106 |\n|  9 | Supplier 9  | 0.43478521 |\n| 10 | Supplier 10 | 0.38622453 |\n\n",
            "text/latex": "A data.table: 10 × 3\n\\begin{tabular}{lll}\n Id & Name & QualityFactor\\\\\n <int> & <chr> & <dbl>\\\\\n\\hline\n\t  1 & Supplier 1  & 0.20746829\\\\\n\t  2 & Supplier 2  & 0.23560824\\\\\n\t  3 & Supplier 3  & 0.23810295\\\\\n\t  4 & Supplier 4  & 0.09197776\\\\\n\t  5 & Supplier 5  & 0.36013958\\\\\n\t  6 & Supplier 6  & 0.37966591\\\\\n\t  7 & Supplier 7  & 0.42157890\\\\\n\t  8 & Supplier 8  & 0.21566106\\\\\n\t  9 & Supplier 9  & 0.43478521\\\\\n\t 10 & Supplier 10 & 0.38622453\\\\\n\\end{tabular}\n",
            "text/plain": [
              "   Id Name        QualityFactor\n",
              "1   1 Supplier 1  0.20746829   \n",
              "2   2 Supplier 2  0.23560824   \n",
              "3   3 Supplier 3  0.23810295   \n",
              "4   4 Supplier 4  0.09197776   \n",
              "5   5 Supplier 5  0.36013958   \n",
              "6   6 Supplier 6  0.37966591   \n",
              "7   7 Supplier 7  0.42157890   \n",
              "8   8 Supplier 8  0.21566106   \n",
              "9   9 Supplier 9  0.43478521   \n",
              "10 10 Supplier 10 0.38622453   "
            ]
          },
          "metadata": {}
        }
      ]
    },
    {
      "cell_type": "code",
      "source": [
        "quotes = fread(\"Quotes.csv\", header=T)\n",
        "head(quotes,10)"
      ],
      "metadata": {
        "colab": {
          "base_uri": "https://localhost:8080/",
          "height": 412
        },
        "id": "Ot3Mb04vdLhV",
        "outputId": "94d3aaf6-0509-43dd-800a-8ab63d5402b6"
      },
      "execution_count": 6,
      "outputs": [
        {
          "output_type": "display_data",
          "data": {
            "text/html": [
              "<table class=\"dataframe\">\n",
              "<caption>A data.table: 10 × 8</caption>\n",
              "<thead>\n",
              "\t<tr><th scope=col>Quote_Id</th><th scope=col>Supplier_Id</th><th scope=col>Product_Id</th><th scope=col>Weight_Available</th><th scope=col>Material_Distance</th><th scope=col>Lead_Time_Min</th><th scope=col>Lead_Time_Max</th><th scope=col>MaterialCost</th></tr>\n",
              "\t<tr><th scope=col>&lt;int&gt;</th><th scope=col>&lt;int&gt;</th><th scope=col>&lt;int&gt;</th><th scope=col>&lt;int&gt;</th><th scope=col>&lt;int&gt;</th><th scope=col>&lt;int&gt;</th><th scope=col>&lt;int&gt;</th><th scope=col>&lt;int&gt;</th></tr>\n",
              "</thead>\n",
              "<tbody>\n",
              "\t<tr><td> 1</td><td>1</td><td> 1</td><td> 594398</td><td>3962</td><td>15</td><td>38</td><td>235539</td></tr>\n",
              "\t<tr><td> 2</td><td>1</td><td> 2</td><td>1650000</td><td>3962</td><td>15</td><td>38</td><td>653838</td></tr>\n",
              "\t<tr><td> 3</td><td>1</td><td> 3</td><td> 673651</td><td>3962</td><td>15</td><td>38</td><td>266944</td></tr>\n",
              "\t<tr><td> 4</td><td>1</td><td> 4</td><td>  79253</td><td>3962</td><td>15</td><td>38</td><td> 31405</td></tr>\n",
              "\t<tr><td> 5</td><td>1</td><td> 5</td><td> 198132</td><td>3962</td><td>15</td><td>38</td><td> 78512</td></tr>\n",
              "\t<tr><td> 6</td><td>1</td><td> 6</td><td>1069917</td><td>3962</td><td>15</td><td>38</td><td>423971</td></tr>\n",
              "\t<tr><td> 7</td><td>1</td><td> 7</td><td> 392303</td><td>3962</td><td>11</td><td>38</td><td>155456</td></tr>\n",
              "\t<tr><td> 8</td><td>1</td><td> 8</td><td> 118879</td><td>3962</td><td>11</td><td>38</td><td> 47107</td></tr>\n",
              "\t<tr><td> 9</td><td>1</td><td> 9</td><td>  79253</td><td>3962</td><td>11</td><td>38</td><td> 31405</td></tr>\n",
              "\t<tr><td>10</td><td>1</td><td>10</td><td>  19813</td><td>3962</td><td>11</td><td>38</td><td>  7851</td></tr>\n",
              "</tbody>\n",
              "</table>\n"
            ],
            "text/markdown": "\nA data.table: 10 × 8\n\n| Quote_Id &lt;int&gt; | Supplier_Id &lt;int&gt; | Product_Id &lt;int&gt; | Weight_Available &lt;int&gt; | Material_Distance &lt;int&gt; | Lead_Time_Min &lt;int&gt; | Lead_Time_Max &lt;int&gt; | MaterialCost &lt;int&gt; |\n|---|---|---|---|---|---|---|---|\n|  1 | 1 |  1 |  594398 | 3962 | 15 | 38 | 235539 |\n|  2 | 1 |  2 | 1650000 | 3962 | 15 | 38 | 653838 |\n|  3 | 1 |  3 |  673651 | 3962 | 15 | 38 | 266944 |\n|  4 | 1 |  4 |   79253 | 3962 | 15 | 38 |  31405 |\n|  5 | 1 |  5 |  198132 | 3962 | 15 | 38 |  78512 |\n|  6 | 1 |  6 | 1069917 | 3962 | 15 | 38 | 423971 |\n|  7 | 1 |  7 |  392303 | 3962 | 11 | 38 | 155456 |\n|  8 | 1 |  8 |  118879 | 3962 | 11 | 38 |  47107 |\n|  9 | 1 |  9 |   79253 | 3962 | 11 | 38 |  31405 |\n| 10 | 1 | 10 |   19813 | 3962 | 11 | 38 |   7851 |\n\n",
            "text/latex": "A data.table: 10 × 8\n\\begin{tabular}{llllllll}\n Quote\\_Id & Supplier\\_Id & Product\\_Id & Weight\\_Available & Material\\_Distance & Lead\\_Time\\_Min & Lead\\_Time\\_Max & MaterialCost\\\\\n <int> & <int> & <int> & <int> & <int> & <int> & <int> & <int>\\\\\n\\hline\n\t  1 & 1 &  1 &  594398 & 3962 & 15 & 38 & 235539\\\\\n\t  2 & 1 &  2 & 1650000 & 3962 & 15 & 38 & 653838\\\\\n\t  3 & 1 &  3 &  673651 & 3962 & 15 & 38 & 266944\\\\\n\t  4 & 1 &  4 &   79253 & 3962 & 15 & 38 &  31405\\\\\n\t  5 & 1 &  5 &  198132 & 3962 & 15 & 38 &  78512\\\\\n\t  6 & 1 &  6 & 1069917 & 3962 & 15 & 38 & 423971\\\\\n\t  7 & 1 &  7 &  392303 & 3962 & 11 & 38 & 155456\\\\\n\t  8 & 1 &  8 &  118879 & 3962 & 11 & 38 &  47107\\\\\n\t  9 & 1 &  9 &   79253 & 3962 & 11 & 38 &  31405\\\\\n\t 10 & 1 & 10 &   19813 & 3962 & 11 & 38 &   7851\\\\\n\\end{tabular}\n",
            "text/plain": [
              "   Quote_Id Supplier_Id Product_Id Weight_Available Material_Distance\n",
              "1   1       1            1          594398          3962             \n",
              "2   2       1            2         1650000          3962             \n",
              "3   3       1            3          673651          3962             \n",
              "4   4       1            4           79253          3962             \n",
              "5   5       1            5          198132          3962             \n",
              "6   6       1            6         1069917          3962             \n",
              "7   7       1            7          392303          3962             \n",
              "8   8       1            8          118879          3962             \n",
              "9   9       1            9           79253          3962             \n",
              "10 10       1           10           19813          3962             \n",
              "   Lead_Time_Min Lead_Time_Max MaterialCost\n",
              "1  15            38            235539      \n",
              "2  15            38            653838      \n",
              "3  15            38            266944      \n",
              "4  15            38             31405      \n",
              "5  15            38             78512      \n",
              "6  15            38            423971      \n",
              "7  11            38            155456      \n",
              "8  11            38             47107      \n",
              "9  11            38             31405      \n",
              "10 11            38              7851      "
            ]
          },
          "metadata": {}
        }
      ]
    },
    {
      "cell_type": "markdown",
      "source": [
        "```\n",
        "What's an ask for a typical product_id, and what weights are available from sellers ?\n",
        "Lets consider product_id = 1.\n",
        "How much of it do we need, and what's available on the market ?\n",
        "```"
      ],
      "metadata": {
        "id": "EFbA_ne1d92L"
      }
    },
    {
      "cell_type": "code",
      "source": [
        "rfq[rfq$Product_Id == 1]$Weight_Requested\n",
        "quotes[quotes$Product_Id == 1]$Weight_Available"
      ],
      "metadata": {
        "colab": {
          "base_uri": "https://localhost:8080/",
          "height": 52
        },
        "id": "BaWXroHed36g",
        "outputId": "f66a89dd-31ec-4424-c061-da096aa8acfd"
      },
      "execution_count": 7,
      "outputs": [
        {
          "output_type": "display_data",
          "data": {
            "text/html": [
              "750000"
            ],
            "text/markdown": "750000",
            "text/latex": "750000",
            "text/plain": [
              "[1] 750000"
            ]
          },
          "metadata": {}
        },
        {
          "output_type": "display_data",
          "data": {
            "text/html": [
              "<style>\n",
              ".list-inline {list-style: none; margin:0; padding: 0}\n",
              ".list-inline>li {display: inline-block}\n",
              ".list-inline>li:not(:last-child)::after {content: \"\\00b7\"; padding: 0 .5ex}\n",
              "</style>\n",
              "<ol class=list-inline><li>594398</li><li>750000</li><li>750000</li><li>750000</li><li>479895</li><li>750000</li><li>433815</li><li>588254</li><li>750000</li><li>460331</li></ol>\n"
            ],
            "text/markdown": "1. 594398\n2. 750000\n3. 750000\n4. 750000\n5. 479895\n6. 750000\n7. 433815\n8. 588254\n9. 750000\n10. 460331\n\n\n",
            "text/latex": "\\begin{enumerate*}\n\\item 594398\n\\item 750000\n\\item 750000\n\\item 750000\n\\item 479895\n\\item 750000\n\\item 433815\n\\item 588254\n\\item 750000\n\\item 460331\n\\end{enumerate*}\n",
            "text/plain": [
              " [1] 594398 750000 750000 750000 479895 750000 433815 588254 750000 460331"
            ]
          },
          "metadata": {}
        }
      ]
    },
    {
      "cell_type": "markdown",
      "source": [
        "\n",
        "```\n",
        "Suppose we score sellers by the square distance from the request weight vector. \n",
        "Seller with the least square distance can supply most of the goods.\n",
        "Then we work our way up.\n",
        "\n",
        "What's the request vector ?\n",
        "What's the supplier vector from the first supplier ? ( we're assuming each supplier supplies every item )\n",
        "```"
      ],
      "metadata": {
        "id": "u-s_EAYKeK-0"
      }
    },
    {
      "cell_type": "code",
      "source": [
        "rfq$Weight_Requested\n",
        "quotes[quotes$Supplier_Id == 1]$Weight_Available"
      ],
      "metadata": {
        "colab": {
          "base_uri": "https://localhost:8080/",
          "height": 52
        },
        "id": "DMxBQBYdeRFL",
        "outputId": "5a58fe4e-efe7-43f1-f1f2-52ac590325b7"
      },
      "execution_count": 8,
      "outputs": [
        {
          "output_type": "display_data",
          "data": {
            "text/html": [
              "<style>\n",
              ".list-inline {list-style: none; margin:0; padding: 0}\n",
              ".list-inline>li {display: inline-block}\n",
              ".list-inline>li:not(:last-child)::after {content: \"\\00b7\"; padding: 0 .5ex}\n",
              "</style>\n",
              "<ol class=list-inline><li>750000</li><li>1650000</li><li>850000</li><li>100000</li><li>250000</li><li>1350000</li><li>495000</li><li>150000</li><li>100000</li><li>25000</li></ol>\n"
            ],
            "text/markdown": "1. 750000\n2. 1650000\n3. 850000\n4. 100000\n5. 250000\n6. 1350000\n7. 495000\n8. 150000\n9. 100000\n10. 25000\n\n\n",
            "text/latex": "\\begin{enumerate*}\n\\item 750000\n\\item 1650000\n\\item 850000\n\\item 100000\n\\item 250000\n\\item 1350000\n\\item 495000\n\\item 150000\n\\item 100000\n\\item 25000\n\\end{enumerate*}\n",
            "text/plain": [
              " [1]  750000 1650000  850000  100000  250000 1350000  495000  150000  100000\n",
              "[10]   25000"
            ]
          },
          "metadata": {}
        },
        {
          "output_type": "display_data",
          "data": {
            "text/html": [
              "<style>\n",
              ".list-inline {list-style: none; margin:0; padding: 0}\n",
              ".list-inline>li {display: inline-block}\n",
              ".list-inline>li:not(:last-child)::after {content: \"\\00b7\"; padding: 0 .5ex}\n",
              "</style>\n",
              "<ol class=list-inline><li>594398</li><li>1650000</li><li>673651</li><li>79253</li><li>198132</li><li>1069917</li><li>392303</li><li>118879</li><li>79253</li><li>19813</li></ol>\n"
            ],
            "text/markdown": "1. 594398\n2. 1650000\n3. 673651\n4. 79253\n5. 198132\n6. 1069917\n7. 392303\n8. 118879\n9. 79253\n10. 19813\n\n\n",
            "text/latex": "\\begin{enumerate*}\n\\item 594398\n\\item 1650000\n\\item 673651\n\\item 79253\n\\item 198132\n\\item 1069917\n\\item 392303\n\\item 118879\n\\item 79253\n\\item 19813\n\\end{enumerate*}\n",
            "text/plain": [
              " [1]  594398 1650000  673651   79253  198132 1069917  392303  118879   79253\n",
              "[10]   19813"
            ]
          },
          "metadata": {}
        }
      ]
    },
    {
      "cell_type": "markdown",
      "source": [
        "```\n",
        "Lets compute the square distance\n",
        "```"
      ],
      "metadata": {
        "id": "najjeb0rfpf0"
      }
    },
    {
      "cell_type": "code",
      "source": [
        "sqdist <- function(a,b) { round(dist(rbind(a,b))) }\n",
        "sqdist(rfq$Weight_Requested, quotes[quotes$Supplier_Id == 1]$Weight_Available)"
      ],
      "metadata": {
        "colab": {
          "base_uri": "https://localhost:8080/",
          "height": 54
        },
        "id": "VaK0XMrxfxDT",
        "outputId": "a8911d9e-1ea6-45d8-b88c-318769b04d65"
      },
      "execution_count": 9,
      "outputs": [
        {
          "output_type": "display_data",
          "data": {
            "text/plain": [
              "       a\n",
              "b 385812"
            ]
          },
          "metadata": {}
        }
      ]
    },
    {
      "cell_type": "code",
      "source": [
        "res<- mapply( function(x) { sqdist( rfq$Weight_Requested, quotes[quotes$Supplier_Id == x ]$Weight_Available) }, 1:10 ) # Find the squared distance for all 10 suppliers\n",
        "res <- sort(res, index=T)\n",
        "res"
      ],
      "metadata": {
        "colab": {
          "base_uri": "https://localhost:8080/",
          "height": 114
        },
        "id": "CExFlI0egqbG",
        "outputId": "2537ad05-1511-404e-f064-88404303d41e"
      },
      "execution_count": 10,
      "outputs": [
        {
          "output_type": "display_data",
          "data": {
            "text/html": [
              "<dl>\n",
              "\t<dt>$x</dt>\n",
              "\t\t<dd><style>\n",
              ".list-inline {list-style: none; margin:0; padding: 0}\n",
              ".list-inline>li {display: inline-block}\n",
              ".list-inline>li:not(:last-child)::after {content: \"\\00b7\"; padding: 0 .5ex}\n",
              "</style>\n",
              "<ol class=list-inline><li>218000</li><li>238181</li><li>376606</li><li>385812</li><li>533000</li><li>618125</li><li>806233</li><li>890074</li><li>937566</li><li>1025097</li></ol>\n",
              "</dd>\n",
              "\t<dt>$ix</dt>\n",
              "\t\t<dd><style>\n",
              ".list-inline {list-style: none; margin:0; padding: 0}\n",
              ".list-inline>li {display: inline-block}\n",
              ".list-inline>li:not(:last-child)::after {content: \"\\00b7\"; padding: 0 .5ex}\n",
              "</style>\n",
              "<ol class=list-inline><li>4</li><li>3</li><li>2</li><li>1</li><li>8</li><li>6</li><li>10</li><li>5</li><li>9</li><li>7</li></ol>\n",
              "</dd>\n",
              "</dl>\n"
            ],
            "text/markdown": "$x\n:   1. 218000\n2. 238181\n3. 376606\n4. 385812\n5. 533000\n6. 618125\n7. 806233\n8. 890074\n9. 937566\n10. 1025097\n\n\n\n$ix\n:   1. 4\n2. 3\n3. 2\n4. 1\n5. 8\n6. 6\n7. 10\n8. 5\n9. 9\n10. 7\n\n\n\n\n\n",
            "text/latex": "\\begin{description}\n\\item[\\$x] \\begin{enumerate*}\n\\item 218000\n\\item 238181\n\\item 376606\n\\item 385812\n\\item 533000\n\\item 618125\n\\item 806233\n\\item 890074\n\\item 937566\n\\item 1025097\n\\end{enumerate*}\n\n\\item[\\$ix] \\begin{enumerate*}\n\\item 4\n\\item 3\n\\item 2\n\\item 1\n\\item 8\n\\item 6\n\\item 10\n\\item 5\n\\item 9\n\\item 7\n\\end{enumerate*}\n\n\\end{description}\n",
            "text/plain": [
              "$x\n",
              " [1]  218000  238181  376606  385812  533000  618125  806233  890074  937566\n",
              "[10] 1025097\n",
              "\n",
              "$ix\n",
              " [1]  4  3  2  1  8  6 10  5  9  7\n"
            ]
          },
          "metadata": {}
        }
      ]
    },
    {
      "cell_type": "markdown",
      "source": [
        "```\n",
        "We should start with supplier #4 & then #3,#2,#1,#8 etc in the sort order until our order is fulfilled.\n",
        "```"
      ],
      "metadata": {
        "id": "qwic01x7mopk"
      }
    },
    {
      "cell_type": "code",
      "source": [
        "need <- rfq$Weight_Requested\n",
        "mysuppliers <- c()\n",
        "for (idx in res$ix) {\n",
        "  cat( \"\\nNEED\\n\")\n",
        "  cat(need)\n",
        "  cat( paste(\"\\nAvailable from Supplier \", idx, \"\\n\"))\n",
        "  cat(quotes[quotes$Supplier_Id == idx]$Weight_Available)\n",
        "  need = mapply( function(x) { max(x,0) }, need - quotes[quotes$Supplier_Id == idx]$Weight_Available)\n",
        "  mysuppliers <- c( mysuppliers, idx)\n",
        "  if (sum(need) == 0) {\n",
        "    cat(\"\\n\\nOrder fulfilled! Used the following suppliers to fulfil order: \")\n",
        "    cat( mysuppliers)\n",
        "    break\n",
        "  }\n",
        "}"
      ],
      "metadata": {
        "colab": {
          "base_uri": "https://localhost:8080/"
        },
        "id": "3CG58NcupkVf",
        "outputId": "0f3b3d53-04ad-4985-f6de-51e0c6763fe4"
      },
      "execution_count": 11,
      "outputs": [
        {
          "output_type": "stream",
          "name": "stdout",
          "text": [
            "\n",
            "NEED\n",
            "750000 1650000 850000 100000 250000 1350000 495000 150000 100000 25000\n",
            "Available from Supplier  4 \n",
            "750000 1498236 771818 90802 227005 1225830 449471 136203 90802 25000\n",
            "NEED\n",
            "0 151764 78182 9198 22995 124170 45529 13797 9198 0\n",
            "Available from Supplier  3 \n",
            "750000 1650000 647612 100000 250000 1350000 377139 114284 76189 19047\n",
            "\n",
            "Order fulfilled! Used the following suppliers to fulfil order: 4 3"
          ]
        }
      ]
    },
    {
      "cell_type": "markdown",
      "source": [
        "\n",
        "Produce an Order Fulfillment dataframe\n"
      ],
      "metadata": {
        "id": "iwNmi2NgkWpu"
      }
    },
    {
      "cell_type": "code",
      "source": [
        "need <- rfq$Weight_Requested\n",
        "wt_needed <- sum(need)\n",
        "mysuppliers <- matrix(c(\"Buyer\", need, \"100%\", \"\"), ncol=13)\n",
        "for (idx in res$ix) {\n",
        "  qty = mapply( function(x,y) { min(x,y) }, need, quotes[quotes$Supplier_Id == idx]$Weight_Available)\n",
        "  need = mapply( function(x) { max(x,0) }, need - quotes[quotes$Supplier_Id == idx]$Weight_Available)\n",
        "  coverage = round(sum(qty)*100/wt_needed, 2)\n",
        "  qual = round(suppliers[suppliers$Id == idx]$QualityFactor, 2)\n",
        "  mysuppliers <- rbind( mysuppliers, c(paste(\"Supplier\", idx), qty, paste(coverage, \" %\"), qual))\n",
        "  if (sum(need) == 0) {\n",
        "    break\n",
        "  }\n",
        "}\n",
        "df <- data.frame(mysuppliers)\n",
        "colnames(df) <- c(\"Party\", paste(\"Product \", rfq$Product_Id), \"Coverage\", \"Quality\")\n",
        "df"
      ],
      "metadata": {
        "id": "opFI5tX7zwPp",
        "colab": {
          "base_uri": "https://localhost:8080/",
          "height": 192
        },
        "outputId": "b9a6dcac-fc19-4d85-ca65-d6d0ec2e43ba"
      },
      "execution_count": 38,
      "outputs": [
        {
          "output_type": "display_data",
          "data": {
            "text/html": [
              "<table class=\"dataframe\">\n",
              "<caption>A data.frame: 3 × 13</caption>\n",
              "<thead>\n",
              "\t<tr><th scope=col>Party</th><th scope=col>Product  1</th><th scope=col>Product  2</th><th scope=col>Product  3</th><th scope=col>Product  4</th><th scope=col>Product  5</th><th scope=col>Product  6</th><th scope=col>Product  7</th><th scope=col>Product  8</th><th scope=col>Product  9</th><th scope=col>Product  10</th><th scope=col>Coverage</th><th scope=col>Quality</th></tr>\n",
              "\t<tr><th scope=col>&lt;chr&gt;</th><th scope=col>&lt;chr&gt;</th><th scope=col>&lt;chr&gt;</th><th scope=col>&lt;chr&gt;</th><th scope=col>&lt;chr&gt;</th><th scope=col>&lt;chr&gt;</th><th scope=col>&lt;chr&gt;</th><th scope=col>&lt;chr&gt;</th><th scope=col>&lt;chr&gt;</th><th scope=col>&lt;chr&gt;</th><th scope=col>&lt;chr&gt;</th><th scope=col>&lt;chr&gt;</th><th scope=col>&lt;chr&gt;</th></tr>\n",
              "</thead>\n",
              "<tbody>\n",
              "\t<tr><td>Buyer     </td><td>750000</td><td>1650000</td><td>850000</td><td>100000</td><td>250000</td><td>1350000</td><td>495000</td><td>150000</td><td>100000</td><td>25000</td><td>100%    </td><td>    </td></tr>\n",
              "\t<tr><td>Supplier 4</td><td>750000</td><td>1498236</td><td>771818</td><td>90802 </td><td>227005</td><td>1225830</td><td>449471</td><td>136203</td><td>90802 </td><td>25000</td><td>92.05  %</td><td>0.09</td></tr>\n",
              "\t<tr><td>Supplier 3</td><td>0     </td><td>151764 </td><td>78182 </td><td>9198  </td><td>22995 </td><td>124170 </td><td>45529 </td><td>13797 </td><td>9198  </td><td>0    </td><td>7.95  % </td><td>0.24</td></tr>\n",
              "</tbody>\n",
              "</table>\n"
            ],
            "text/markdown": "\nA data.frame: 3 × 13\n\n| Party &lt;chr&gt; | Product  1 &lt;chr&gt; | Product  2 &lt;chr&gt; | Product  3 &lt;chr&gt; | Product  4 &lt;chr&gt; | Product  5 &lt;chr&gt; | Product  6 &lt;chr&gt; | Product  7 &lt;chr&gt; | Product  8 &lt;chr&gt; | Product  9 &lt;chr&gt; | Product  10 &lt;chr&gt; | Coverage &lt;chr&gt; | Quality &lt;chr&gt; |\n|---|---|---|---|---|---|---|---|---|---|---|---|---|\n| Buyer      | 750000 | 1650000 | 850000 | 100000 | 250000 | 1350000 | 495000 | 150000 | 100000 | 25000 | 100%     | <!----> |\n| Supplier 4 | 750000 | 1498236 | 771818 | 90802  | 227005 | 1225830 | 449471 | 136203 | 90802  | 25000 | 92.05  % | 0.09 |\n| Supplier 3 | 0      | 151764  | 78182  | 9198   | 22995  | 124170  | 45529  | 13797  | 9198   | 0     | 7.95  %  | 0.24 |\n\n",
            "text/latex": "A data.frame: 3 × 13\n\\begin{tabular}{lllllllllllll}\n Party & Product  1 & Product  2 & Product  3 & Product  4 & Product  5 & Product  6 & Product  7 & Product  8 & Product  9 & Product  10 & Coverage & Quality\\\\\n <chr> & <chr> & <chr> & <chr> & <chr> & <chr> & <chr> & <chr> & <chr> & <chr> & <chr> & <chr> & <chr>\\\\\n\\hline\n\t Buyer      & 750000 & 1650000 & 850000 & 100000 & 250000 & 1350000 & 495000 & 150000 & 100000 & 25000 & 100\\%     &     \\\\\n\t Supplier 4 & 750000 & 1498236 & 771818 & 90802  & 227005 & 1225830 & 449471 & 136203 & 90802  & 25000 & 92.05  \\% & 0.09\\\\\n\t Supplier 3 & 0      & 151764  & 78182  & 9198   & 22995  & 124170  & 45529  & 13797  & 9198   & 0     & 7.95  \\%  & 0.24\\\\\n\\end{tabular}\n",
            "text/plain": [
              "  Party      Product  1 Product  2 Product  3 Product  4 Product  5 Product  6\n",
              "1 Buyer      750000     1650000    850000     100000     250000     1350000   \n",
              "2 Supplier 4 750000     1498236    771818     90802      227005     1225830   \n",
              "3 Supplier 3 0          151764     78182      9198       22995      124170    \n",
              "  Product  7 Product  8 Product  9 Product  10 Coverage Quality\n",
              "1 495000     150000     100000     25000       100%            \n",
              "2 449471     136203     90802      25000       92.05  % 0.09   \n",
              "3 45529      13797      9198       0           7.95  %  0.24   "
            ]
          },
          "metadata": {}
        }
      ]
    },
    {
      "cell_type": "markdown",
      "source": [
        "\n",
        "**Order fulfilment constrained by quality factor.**\n",
        "```\n",
        "Say we seek only those suppliers with a quality > 20%\n",
        "```"
      ],
      "metadata": {
        "id": "pLMqmwwdsi0U"
      }
    },
    {
      "cell_type": "code",
      "source": [
        "need <- rfq$Weight_Requested\n",
        "wt_needed <- sum(need)\n",
        "mysuppliers <- matrix(c(\"Buyer\", need, \"100%\", \"\"), ncol=13)\n",
        "threshold <- 0.2\n",
        "for (idx in res$ix) {\n",
        "  qual = round(suppliers[suppliers$Id == idx]$QualityFactor, 2)\n",
        "  if (qual > threshold) {\n",
        "    qty = mapply( function(x,y) { min(x,y) }, need, quotes[quotes$Supplier_Id == idx]$Weight_Available)\n",
        "    need = mapply( function(x) { max(x,0) }, need - quotes[quotes$Supplier_Id == idx]$Weight_Available)\n",
        "    coverage = round(sum(qty)*100/wt_needed, 2)\n",
        "    mysuppliers <- rbind( mysuppliers, c(paste(\"Supplier\", idx), qty, paste(coverage, \" %\"), qual))\n",
        "    if (sum(need) == 0) {\n",
        "      break\n",
        "    }\n",
        "  }\n",
        "}\n",
        "df <- data.frame(mysuppliers)\n",
        "colnames(df) <- c(\"Party\", paste(\"Product \", rfq$Product_Id), \"Coverage\", \"Quality\")\n",
        "df"
      ],
      "metadata": {
        "colab": {
          "base_uri": "https://localhost:8080/",
          "height": 192
        },
        "id": "uDVglptxstNc",
        "outputId": "f7762aca-ad24-46f2-bc24-8452c1c60ef0"
      },
      "execution_count": 40,
      "outputs": [
        {
          "output_type": "display_data",
          "data": {
            "text/html": [
              "<table class=\"dataframe\">\n",
              "<caption>A data.frame: 3 × 13</caption>\n",
              "<thead>\n",
              "\t<tr><th scope=col>Party</th><th scope=col>Product  1</th><th scope=col>Product  2</th><th scope=col>Product  3</th><th scope=col>Product  4</th><th scope=col>Product  5</th><th scope=col>Product  6</th><th scope=col>Product  7</th><th scope=col>Product  8</th><th scope=col>Product  9</th><th scope=col>Product  10</th><th scope=col>Coverage</th><th scope=col>Quality</th></tr>\n",
              "\t<tr><th scope=col>&lt;chr&gt;</th><th scope=col>&lt;chr&gt;</th><th scope=col>&lt;chr&gt;</th><th scope=col>&lt;chr&gt;</th><th scope=col>&lt;chr&gt;</th><th scope=col>&lt;chr&gt;</th><th scope=col>&lt;chr&gt;</th><th scope=col>&lt;chr&gt;</th><th scope=col>&lt;chr&gt;</th><th scope=col>&lt;chr&gt;</th><th scope=col>&lt;chr&gt;</th><th scope=col>&lt;chr&gt;</th><th scope=col>&lt;chr&gt;</th></tr>\n",
              "</thead>\n",
              "<tbody>\n",
              "\t<tr><td>Buyer     </td><td>750000</td><td>1650000</td><td>850000</td><td>100000</td><td>250000</td><td>1350000</td><td>495000</td><td>150000</td><td>100000</td><td>25000</td><td>100%    </td><td>    </td></tr>\n",
              "\t<tr><td>Supplier 3</td><td>750000</td><td>1650000</td><td>647612</td><td>100000</td><td>250000</td><td>1350000</td><td>377139</td><td>114284</td><td>76189 </td><td>19047</td><td>93.26  %</td><td>0.24</td></tr>\n",
              "\t<tr><td>Supplier 2</td><td>0     </td><td>0      </td><td>202388</td><td>0     </td><td>0     </td><td>0      </td><td>117861</td><td>35716 </td><td>23811 </td><td>5953 </td><td>6.74  % </td><td>0.24</td></tr>\n",
              "</tbody>\n",
              "</table>\n"
            ],
            "text/markdown": "\nA data.frame: 3 × 13\n\n| Party &lt;chr&gt; | Product  1 &lt;chr&gt; | Product  2 &lt;chr&gt; | Product  3 &lt;chr&gt; | Product  4 &lt;chr&gt; | Product  5 &lt;chr&gt; | Product  6 &lt;chr&gt; | Product  7 &lt;chr&gt; | Product  8 &lt;chr&gt; | Product  9 &lt;chr&gt; | Product  10 &lt;chr&gt; | Coverage &lt;chr&gt; | Quality &lt;chr&gt; |\n|---|---|---|---|---|---|---|---|---|---|---|---|---|\n| Buyer      | 750000 | 1650000 | 850000 | 100000 | 250000 | 1350000 | 495000 | 150000 | 100000 | 25000 | 100%     | <!----> |\n| Supplier 3 | 750000 | 1650000 | 647612 | 100000 | 250000 | 1350000 | 377139 | 114284 | 76189  | 19047 | 93.26  % | 0.24 |\n| Supplier 2 | 0      | 0       | 202388 | 0      | 0      | 0       | 117861 | 35716  | 23811  | 5953  | 6.74  %  | 0.24 |\n\n",
            "text/latex": "A data.frame: 3 × 13\n\\begin{tabular}{lllllllllllll}\n Party & Product  1 & Product  2 & Product  3 & Product  4 & Product  5 & Product  6 & Product  7 & Product  8 & Product  9 & Product  10 & Coverage & Quality\\\\\n <chr> & <chr> & <chr> & <chr> & <chr> & <chr> & <chr> & <chr> & <chr> & <chr> & <chr> & <chr> & <chr>\\\\\n\\hline\n\t Buyer      & 750000 & 1650000 & 850000 & 100000 & 250000 & 1350000 & 495000 & 150000 & 100000 & 25000 & 100\\%     &     \\\\\n\t Supplier 3 & 750000 & 1650000 & 647612 & 100000 & 250000 & 1350000 & 377139 & 114284 & 76189  & 19047 & 93.26  \\% & 0.24\\\\\n\t Supplier 2 & 0      & 0       & 202388 & 0      & 0      & 0       & 117861 & 35716  & 23811  & 5953  & 6.74  \\%  & 0.24\\\\\n\\end{tabular}\n",
            "text/plain": [
              "  Party      Product  1 Product  2 Product  3 Product  4 Product  5 Product  6\n",
              "1 Buyer      750000     1650000    850000     100000     250000     1350000   \n",
              "2 Supplier 3 750000     1650000    647612     100000     250000     1350000   \n",
              "3 Supplier 2 0          0          202388     0          0          0         \n",
              "  Product  7 Product  8 Product  9 Product  10 Coverage Quality\n",
              "1 495000     150000     100000     25000       100%            \n",
              "2 377139     114284     76189      19047       93.26  % 0.24   \n",
              "3 117861     35716      23811      5953        6.74  %  0.24   "
            ]
          },
          "metadata": {}
        }
      ]
    },
    {
      "cell_type": "markdown",
      "source": [
        "Order fulfilment constrained by shipping distance, quality, and least number of suppliers\n"
      ],
      "metadata": {
        "id": "R_eQsgFLvWni"
      }
    },
    {
      "cell_type": "code",
      "source": [
        "indices <- 1:10\n",
        "res<- mapply( function(x) { sqdist( rfq$Weight_Requested, quotes[quotes$Supplier_Id == x ]$Weight_Available) }, indices ) # Find the squared distance for all 10 suppliers\n",
        "shippingDistances <- mapply( function(x) { quotes[quotes$Supplier_Id == x ]$Material_Distance[1] }, indices ) # Distances\n",
        "sortedByShippingDistance <- rbind( indices, res, shippingDistances )[, order( shippingDistances, res)]\n",
        "cat(\" \\nSorted by shipping distance, coverage capacity \\n\")\n",
        "sortedByShippingDistance\n",
        "\n",
        "need <- rfq$Weight_Requested\n",
        "wt_needed <- sum(need)\n",
        "mysuppliers <- matrix(c(\"Buyer\", need, \"100%\", \"\"), ncol=13)\n",
        "threshold <- 0.2\n",
        "for (idx in sortedByShippingDistance[1,]) {\n",
        "  qual = round(suppliers[suppliers$Id == idx]$QualityFactor, 2)\n",
        "  if (qual > threshold) {\n",
        "    qty = mapply( function(x,y) { min(x,y) }, need, quotes[quotes$Supplier_Id == idx]$Weight_Available)\n",
        "    need = mapply( function(x) { max(x,0) }, need - quotes[quotes$Supplier_Id == idx]$Weight_Available)\n",
        "    coverage = round(sum(qty)*100/wt_needed, 2)\n",
        "    mysuppliers <- rbind( mysuppliers, c(paste(\"Supplier\", idx), qty, paste(coverage, \" %\"), qual))\n",
        "    if (sum(need) == 0) {\n",
        "      break\n",
        "    }\n",
        "  }\n",
        "}\n",
        "df <- data.frame(mysuppliers)\n",
        "colnames(df) <- c(\"Party\", paste(\"Product \", rfq$Product_Id), \"Coverage\", \"Quality\")\n",
        "cat(paste(\"\\n\\n\\n Order Fulfilment prioritized by shipping distance, then coverage capacity, thresholded by quality\"))\n",
        "\n",
        "df"
      ],
      "metadata": {
        "colab": {
          "base_uri": "https://localhost:8080/",
          "height": 414
        },
        "id": "MG1o20oUvdUM",
        "outputId": "d1b85b44-d847-4211-d3de-8f073c1ad816"
      },
      "execution_count": 58,
      "outputs": [
        {
          "output_type": "stream",
          "name": "stdout",
          "text": [
            " \n",
            "Sorted by shipping distance, coverage capacity \n"
          ]
        },
        {
          "output_type": "display_data",
          "data": {
            "text/html": [
              "<table class=\"dataframe\">\n",
              "<caption>A matrix: 3 × 10 of type dbl</caption>\n",
              "<tbody>\n",
              "\t<tr><th scope=row>indices</th><td>     9</td><td>      7</td><td>    10</td><td>     6</td><td>     5</td><td>     3</td><td>     2</td><td>     8</td><td>     1</td><td>     4</td></tr>\n",
              "\t<tr><th scope=row>res</th><td>937566</td><td>1025097</td><td>806233</td><td>618125</td><td>890074</td><td>238181</td><td>376606</td><td>533000</td><td>385812</td><td>218000</td></tr>\n",
              "\t<tr><th scope=row>shippingDistances</th><td>  2826</td><td>   2892</td><td>  3068</td><td>  3101</td><td>  3199</td><td>  3809</td><td>  3821</td><td>  3921</td><td>  3962</td><td>  4540</td></tr>\n",
              "</tbody>\n",
              "</table>\n"
            ],
            "text/markdown": "\nA matrix: 3 × 10 of type dbl\n\n| indices |      9 |       7 |     10 |      6 |      5 |      3 |      2 |      8 |      1 |      4 |\n| res | 937566 | 1025097 | 806233 | 618125 | 890074 | 238181 | 376606 | 533000 | 385812 | 218000 |\n| shippingDistances |   2826 |    2892 |   3068 |   3101 |   3199 |   3809 |   3821 |   3921 |   3962 |   4540 |\n\n",
            "text/latex": "A matrix: 3 × 10 of type dbl\n\\begin{tabular}{r|llllllllll}\n\tindices &      9 &       7 &     10 &      6 &      5 &      3 &      2 &      8 &      1 &      4\\\\\n\tres & 937566 & 1025097 & 806233 & 618125 & 890074 & 238181 & 376606 & 533000 & 385812 & 218000\\\\\n\tshippingDistances &   2826 &    2892 &   3068 &   3101 &   3199 &   3809 &   3821 &   3921 &   3962 &   4540\\\\\n\\end{tabular}\n",
            "text/plain": [
              "                  [,1]   [,2]    [,3]   [,4]   [,5]   [,6]   [,7]   [,8]  \n",
              "indices                9       7     10      6      5      3      2      8\n",
              "res               937566 1025097 806233 618125 890074 238181 376606 533000\n",
              "shippingDistances   2826    2892   3068   3101   3199   3809   3821   3921\n",
              "                  [,9]   [,10] \n",
              "indices                1      4\n",
              "res               385812 218000\n",
              "shippingDistances   3962   4540"
            ]
          },
          "metadata": {}
        },
        {
          "output_type": "stream",
          "name": "stdout",
          "text": [
            "\n",
            "\n",
            "\n",
            " Order Fulfilment prioritized by shipping distance, then coverage capacity, thresholded by quality"
          ]
        },
        {
          "output_type": "display_data",
          "data": {
            "text/html": [
              "<table class=\"dataframe\">\n",
              "<caption>A data.frame: 3 × 13</caption>\n",
              "<thead>\n",
              "\t<tr><th scope=col>Party</th><th scope=col>Product  1</th><th scope=col>Product  2</th><th scope=col>Product  3</th><th scope=col>Product  4</th><th scope=col>Product  5</th><th scope=col>Product  6</th><th scope=col>Product  7</th><th scope=col>Product  8</th><th scope=col>Product  9</th><th scope=col>Product  10</th><th scope=col>Coverage</th><th scope=col>Quality</th></tr>\n",
              "\t<tr><th scope=col>&lt;chr&gt;</th><th scope=col>&lt;chr&gt;</th><th scope=col>&lt;chr&gt;</th><th scope=col>&lt;chr&gt;</th><th scope=col>&lt;chr&gt;</th><th scope=col>&lt;chr&gt;</th><th scope=col>&lt;chr&gt;</th><th scope=col>&lt;chr&gt;</th><th scope=col>&lt;chr&gt;</th><th scope=col>&lt;chr&gt;</th><th scope=col>&lt;chr&gt;</th><th scope=col>&lt;chr&gt;</th><th scope=col>&lt;chr&gt;</th></tr>\n",
              "</thead>\n",
              "<tbody>\n",
              "\t<tr><td>Buyer     </td><td>750000</td><td>1650000</td><td>850000</td><td>100000</td><td>250000</td><td>1350000</td><td>495000</td><td>150000</td><td>100000</td><td>25000</td><td>100%    </td><td>    </td></tr>\n",
              "\t<tr><td>Supplier 9</td><td>750000</td><td>932604 </td><td>850000</td><td>56521 </td><td>141303</td><td>763039 </td><td>495000</td><td>84782 </td><td>56521 </td><td>25000</td><td>72.64  %</td><td>0.43</td></tr>\n",
              "\t<tr><td>Supplier 7</td><td>0     </td><td>717396 </td><td>0     </td><td>43479 </td><td>108697</td><td>586961 </td><td>0     </td><td>65218 </td><td>43479 </td><td>0    </td><td>27.36  %</td><td>0.42</td></tr>\n",
              "</tbody>\n",
              "</table>\n"
            ],
            "text/markdown": "\nA data.frame: 3 × 13\n\n| Party &lt;chr&gt; | Product  1 &lt;chr&gt; | Product  2 &lt;chr&gt; | Product  3 &lt;chr&gt; | Product  4 &lt;chr&gt; | Product  5 &lt;chr&gt; | Product  6 &lt;chr&gt; | Product  7 &lt;chr&gt; | Product  8 &lt;chr&gt; | Product  9 &lt;chr&gt; | Product  10 &lt;chr&gt; | Coverage &lt;chr&gt; | Quality &lt;chr&gt; |\n|---|---|---|---|---|---|---|---|---|---|---|---|---|\n| Buyer      | 750000 | 1650000 | 850000 | 100000 | 250000 | 1350000 | 495000 | 150000 | 100000 | 25000 | 100%     | <!----> |\n| Supplier 9 | 750000 | 932604  | 850000 | 56521  | 141303 | 763039  | 495000 | 84782  | 56521  | 25000 | 72.64  % | 0.43 |\n| Supplier 7 | 0      | 717396  | 0      | 43479  | 108697 | 586961  | 0      | 65218  | 43479  | 0     | 27.36  % | 0.42 |\n\n",
            "text/latex": "A data.frame: 3 × 13\n\\begin{tabular}{lllllllllllll}\n Party & Product  1 & Product  2 & Product  3 & Product  4 & Product  5 & Product  6 & Product  7 & Product  8 & Product  9 & Product  10 & Coverage & Quality\\\\\n <chr> & <chr> & <chr> & <chr> & <chr> & <chr> & <chr> & <chr> & <chr> & <chr> & <chr> & <chr> & <chr>\\\\\n\\hline\n\t Buyer      & 750000 & 1650000 & 850000 & 100000 & 250000 & 1350000 & 495000 & 150000 & 100000 & 25000 & 100\\%     &     \\\\\n\t Supplier 9 & 750000 & 932604  & 850000 & 56521  & 141303 & 763039  & 495000 & 84782  & 56521  & 25000 & 72.64  \\% & 0.43\\\\\n\t Supplier 7 & 0      & 717396  & 0      & 43479  & 108697 & 586961  & 0      & 65218  & 43479  & 0     & 27.36  \\% & 0.42\\\\\n\\end{tabular}\n",
            "text/plain": [
              "  Party      Product  1 Product  2 Product  3 Product  4 Product  5 Product  6\n",
              "1 Buyer      750000     1650000    850000     100000     250000     1350000   \n",
              "2 Supplier 9 750000     932604     850000     56521      141303     763039    \n",
              "3 Supplier 7 0          717396     0          43479      108697     586961    \n",
              "  Product  7 Product  8 Product  9 Product  10 Coverage Quality\n",
              "1 495000     150000     100000     25000       100%            \n",
              "2 495000     84782      56521      25000       72.64  % 0.43   \n",
              "3 0          65218      43479      0           27.36  % 0.42   "
            ]
          },
          "metadata": {}
        }
      ]
    },
    {
      "cell_type": "markdown",
      "source": [
        "```\n",
        "Notes: For Order Fulfilment optimized by price:\n",
        "a. Since each vendor is only partial-fulfilling an order, the material cost must take partial fulfilment into account. \n",
        "b. Shipping distances add to prices as well, given price of fuel miles per gallon. \n",
        "```"
      ],
      "metadata": {
        "id": "ZNiWes6ZEYCA"
      }
    }
  ]
}